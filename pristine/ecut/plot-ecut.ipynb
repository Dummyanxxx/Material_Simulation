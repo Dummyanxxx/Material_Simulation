{
 "cells": [
  {
   "cell_type": "code",
   "execution_count": null,
   "metadata": {
    "id": "2SGplzv2GcIy",
    "outputId": "f79553d8-36d5-4364-c5ba-b8e018ffb5ce"
   },
   "outputs": [],
   "source": [
    "# Import the necessary packages and modules\n",
    "import matplotlib.pyplot as plt\n",
    "plt.style.use('../../matplotlib/sci.mplstyle')\n",
    "import numpy as np\n",
    "\n",
    "# Open and read the file calc-ecut.dat\n",
    "ecut, ener = np.loadtxt('calc-ecut.dat', delimiter=' ', unpack=True)\n",
    "\n",
    "# Create figure object\n",
    "plt.figure()\n",
    "\n",
    "# Plot the data, using scatter plot\n",
    "plt.scatter(ecut, ener, s=150)\n",
    "\n",
    "# Plot a dashed line at 150 Ry\n",
    "plt.axhline(ener[12], c='gray', ls='--')\n",
    "\n",
    "# Add the x and y-axis labels\n",
    "plt.xlabel(r'Energi $cut\\text{-}off$ (Ry)')\n",
    "plt.ylabel('Energi total (Ry)')\n",
    "\n",
    "# Set the axis limits\n",
    "plt.xlim (30, 160)\n",
    "plt.ylim (-4279, -4278)\n",
    "\n",
    "# Save a figure to the pdf file\n",
    "plt.savefig('plot-ecut.jpg')\n",
    "\n",
    "# Show plot\n",
    "plt.show()"
   ]
  }
 ],
 "metadata": {
  "colab": {
   "provenance": []
  },
  "kernelspec": {
   "display_name": "Python 3 (ipykernel)",
   "language": "python",
   "name": "python3"
  },
  "language_info": {
   "codemirror_mode": {
    "name": "ipython",
    "version": 3
   },
   "file_extension": ".py",
   "mimetype": "text/x-python",
   "name": "python",
   "nbconvert_exporter": "python",
   "pygments_lexer": "ipython3",
   "version": "3.13.5"
  }
 },
 "nbformat": 4,
 "nbformat_minor": 4
}
