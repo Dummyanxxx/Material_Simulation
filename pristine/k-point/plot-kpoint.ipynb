{
 "cells": [
  {
   "cell_type": "code",
   "execution_count": null,
   "metadata": {},
   "outputs": [],
   "source": [
    "# Import the necessary packages and modules\n",
    "import matplotlib.pyplot as plt\n",
    "import matplotlib.ticker as ticker\n",
    "plt.style.use('../../matplotlib/sci.mplstyle')\n",
    "import numpy as np\n",
    "    \n",
    "# Open and read the file calc-kpoint.dat\n",
    "kp, ener = np.loadtxt('calc-kpoint.dat', delimiter=' ', unpack=True)\n",
    "\n",
    "# Create figure object\n",
    "plt.figure()\n",
    "# Plot the data, using black color\n",
    "plt.scatter(kp, ener, s=150)\n",
    "# Plot a dashed line at 4x4x4\n",
    "plt.axhline(ener[3], c='gray', ls='--')\n",
    "# Set the axis limits\n",
    "plt.xlim(0, 65)\n",
    "plt.ylim (-4278.7, -4278.5)\n",
    "plt.yticks(np.arange(-4278.7, -4278.49, 0.05))\n",
    "plt.xticks(np.arange(0, 65, 10))\n",
    "# Add the x and y-axis labels\n",
    "plt.xlabel('Jumlah k-point')\n",
    "plt.ylabel('Energi total (Ry)')\n",
    "\n",
    "# Turn off scientific notation on the Y axis\n",
    "ax = plt.gca()\n",
    "ax.ticklabel_format(style='plain', axis='y')  \n",
    "ax.yaxis.get_offset_text().set_visible(False)  \n",
    "ax.yaxis.set_major_formatter(ticker.FormatStrFormatter('%.2f')) \n",
    "ax.tick_params(axis='both', which='both', top=False, right=False, direction='out')\n",
    "\n",
    "# Save figure to the jpg file\n",
    "plt.savefig('plot-kpoint.jpg')\n",
    "# Show figure\n",
    "plt.show()"
   ]
  }
 ],
 "metadata": {
  "kernelspec": {
   "display_name": "Python 3 (ipykernel)",
   "language": "python",
   "name": "python3"
  },
  "language_info": {
   "codemirror_mode": {
    "name": "ipython",
    "version": 3
   },
   "file_extension": ".py",
   "mimetype": "text/x-python",
   "name": "python",
   "nbconvert_exporter": "python",
   "pygments_lexer": "ipython3",
   "version": "3.13.5"
  }
 },
 "nbformat": 4,
 "nbformat_minor": 4
}
